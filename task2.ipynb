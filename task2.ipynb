{
 "cells": [
  {
   "cell_type": "code",
   "execution_count": 2,
   "metadata": {},
   "outputs": [],
   "source": [
    "import numpy as np\n",
    "import matplotlib.pyplot as plt\n",
    "from keras.layers import Dense, Dropout, Conv2D, MaxPool2D, Flatten, BatchNormalization, GlobalAveragePooling2D, InputLayer, LeakyReLU\n",
    "from keras.models import Sequential, Model\n",
    "from keras.preprocessing.image import ImageDataGenerator\n",
    "import tensorflow as tf\n",
    "from tensorflow import keras\n",
    "import os\n",
    "import shutil\n",
    "from skimage import io, img_as_float\n",
    "from skimage.filters import unsharp_mask\n",
    "from skimage.filters import gaussian"
   ]
  },
  {
   "cell_type": "code",
   "execution_count": 5,
   "metadata": {},
   "outputs": [],
   "source": [
    "ROOT_DIR = \"/Users/diganto/Data/Thesis/Brain Tumor Data Set/Brain Tumor\""
   ]
  },
  {
   "cell_type": "code",
   "execution_count": null,
   "metadata": {},
   "outputs": [],
   "source": [
    "ROOT_DIR = \"/Users/diganto/Data/Thesis/Brain Tumor Data Set/Brain Tumor\"\n",
    "for img in os.listdir(ROOT_DIR):\n",
    "    path = os.path.join(ROOT_DIR, f\"{img}\")\n",
    "    image = io.imread(path)\n",
    "    image = img_as_float(image)\n",
    "    image = unsharp_mask(image, radius=3, amount=2)\n",
    "    io.imsave(\"/Users/diganto/Data/Thesis/Unsharp Mask/\"+img, image)\n"
   ]
  },
  {
   "cell_type": "code",
   "execution_count": 17,
   "metadata": {},
   "outputs": [],
   "source": [
    "import cv2\n",
    "ROOT_DIR = \"/Users/diganto/Data/Thesis/Brain Tumor Data Set/Brain Tumor\"\n",
    "for img in os.listdir(ROOT_DIR):\n",
    "    path = os.path.join(ROOT_DIR, f\"{img}\")\n",
    "    image = cv2.imread(path)\n",
    "    sigma = 0.3\n",
    "    median = np.median(image)\n",
    "    lower = int(max(0, (1.0 - sigma) * median)) \n",
    "\n",
    "    upper = int(min(255, (1.0 + sigma) * median)) \n",
    "\n",
    "    auto_canny = cv2.Canny(image, lower, upper)\n",
    "    io.imsave(\"/Users/diganto/Data/Thesis/Canny/\"+img, auto_canny)"
   ]
  },
  {
   "cell_type": "code",
   "execution_count": null,
   "metadata": {},
   "outputs": [],
   "source": [
    "for img in os.listdir(ROOT_DIR):\n",
    "    path = os.path.join(ROOT_DIR, f\"{img}\")\n",
    "    image = io.imread(path)\n",
    "    image = img_as_float(image)\n",
    "    image = gaussian(image, sigma=2, mode='constant', cval=0.0)\n",
    "    io.imsave(\"/Users/diganto/Data/Thesis/Gaussian/\"+img, image)"
   ]
  },
  {
   "cell_type": "code",
   "execution_count": 3,
   "metadata": {},
   "outputs": [],
   "source": [
    "import imgaug as ia\n",
    "import imgaug.augmenters as iaa"
   ]
  },
  {
   "cell_type": "code",
   "execution_count": 30,
   "metadata": {},
   "outputs": [],
   "source": [
    "\n",
    "seq = iaa.Sequential([\n",
    "    iaa.Crop(px=(1, 16), keep_size=False),\n",
    "    iaa.Fliplr(0.5),\n",
    "    iaa.GaussianBlur(sigma=(0, 3.0))\n",
    "])\n"
   ]
  },
  {
   "cell_type": "code",
   "execution_count": null,
   "metadata": {},
   "outputs": [],
   "source": [
    "for img in os.listdir(ROOT_DIR):\n",
    "    path = os.path.join(ROOT_DIR, f\"{img}\")\n",
    "    image = io.imread(path)\n",
    "    image = img_as_float(image)\n",
    "    amg = seq(image=image)\n",
    "    io.imsave(\"/Users/diganto/Data/Thesis/Augmented1/\"+img, amg)"
   ]
  },
  {
   "cell_type": "code",
   "execution_count": null,
   "metadata": {},
   "outputs": [],
   "source": [
    "seq1 = iaa.Sequential([\n",
    "    iaa.Rotate((-30, 30)),\n",
    "])\n",
    "for img in os.listdir(ROOT_DIR):\n",
    "    path = os.path.join(ROOT_DIR, f\"{img}\")\n",
    "    image = io.imread(path)\n",
    "    image = img_as_float(image)\n",
    "    amg = seq1(image=image)\n",
    "    io.imsave(\"/Users/diganto/Data/Thesis/Augmented2/\"+img, amg)"
   ]
  },
  {
   "cell_type": "code",
   "execution_count": null,
   "metadata": {},
   "outputs": [],
   "source": [
    "seq3 = iaa.Sequential([\n",
    "    iaa.GaussianBlur((0, 3.0)),\n",
    "    iaa.Affine(translate_px={\"x\": (-40, 40)}),\n",
    "    iaa.Crop(px=(0, 10))\n",
    "])\n",
    "for img in os.listdir(ROOT_DIR):\n",
    "    path = os.path.join(ROOT_DIR, f\"{img}\")\n",
    "    image = io.imread(path)\n",
    "    image = img_as_float(image)\n",
    "    amg = seq3(image=image)\n",
    "    io.imsave(\"/Users/diganto/Data/Thesis/Augmented3/\"+img, amg)"
   ]
  },
  {
   "cell_type": "code",
   "execution_count": null,
   "metadata": {},
   "outputs": [],
   "source": []
  }
 ],
 "metadata": {
  "kernelspec": {
   "display_name": "Python 3.9.13",
   "language": "python",
   "name": "python3"
  },
  "language_info": {
   "codemirror_mode": {
    "name": "ipython",
    "version": 3
   },
   "file_extension": ".py",
   "mimetype": "text/x-python",
   "name": "python",
   "nbconvert_exporter": "python",
   "pygments_lexer": "ipython3",
   "version": "3.9.13"
  },
  "orig_nbformat": 4,
  "vscode": {
   "interpreter": {
    "hash": "f9647f0aaaa87ff3502935c31d3b95edf29fd98ba2efc82941a1d3e9981ab4ca"
   }
  }
 },
 "nbformat": 4,
 "nbformat_minor": 2
}
